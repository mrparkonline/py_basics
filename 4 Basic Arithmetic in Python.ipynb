{
 "cells": [
  {
   "cell_type": "markdown",
   "metadata": {},
   "source": [
    "# Basic Arithmetic in Python\n",
    "---\n",
    "\n",
    "The core arithmetic operations are all available. Therefore, we can do basic math with Python.\n",
    "\n",
    "### Binary Operators\n",
    "\n",
    "```python\n",
    "\n",
    "+ Addition\n",
    "- Subtraction\n",
    "* Multiplication\n",
    "/ Division\n",
    "// Floor Division\n",
    "** Exponentiation\n",
    "% Modulo\n",
    "\n",
    "```\n",
    "\n",
    "Let's look at how they work:"
   ]
  },
  {
   "cell_type": "code",
   "execution_count": 10,
   "metadata": {},
   "outputs": [
    {
     "name": "stdout",
     "output_type": "stream",
     "text": [
      "var_a + var_b: 12\n",
      "Subtraction: 7\n",
      "Resulting calculation: 0\n",
      "Squaring 10^2: 100\n",
      "Square Root of 125: 11.180339887498949\n"
     ]
    }
   ],
   "source": [
    "# Example\n",
    "var_a = 10\n",
    "var_b = 2\n",
    "var_c = -5\n",
    "\n",
    "addition = var_a + var_b\n",
    "print('var_a + var_b:', addition) # We can do arithmetic then assign the result to a variable\n",
    "\n",
    "print('Subtraction:', var_b - var_c) # we can also do arithmetic as function arguments / inside our print statement\n",
    "\n",
    "# BEDMAS\n",
    "calculation = var_a + var_c * var_b\n",
    "print('Resulting calculation:', calculation) # Python Follows BEDMAS/Order of Arithmetic operations automatically\n",
    "\n",
    "# Exponentiation\n",
    "print('Squaring 10^2:', var_a ** 2)\n",
    "print('Square Root of 125:', 125 ** 0.5)"
   ]
  },
  {
   "cell_type": "markdown",
   "metadata": {},
   "source": [
    "### Division vs Floor Division\n",
    "\n",
    "- Division operation will always turn the quotient into a floating point value\n",
    "- Floor Division will always give an integer quotient\n",
    "- Floor Division will always round down to the nearest integer"
   ]
  },
  {
   "cell_type": "code",
   "execution_count": 17,
   "metadata": {},
   "outputs": [
    {
     "name": "stdout",
     "output_type": "stream",
     "text": [
      "5 / 2 is 2.5\n",
      "5 // 2 is 2\n",
      "----\n",
      "6 / 2 is 3.0\n",
      "6 // 2 is 3\n",
      "----\n",
      "10 / 11 is 0.9090909090909091\n",
      "10 // 11 is 0\n"
     ]
    }
   ],
   "source": [
    "# Example\n",
    "print('5 / 2 is', 5 / 2) \n",
    "print('5 // 2 is' , 5 // 2)\n",
    "print('----')\n",
    "print('6 / 2 is',  6 / 2)\n",
    "print('6 // 2 is', 6 // 2)\n",
    "print('----')\n",
    "print('10 / 11 is', 10 / 11)\n",
    "print('10 // 11 is', 10 // 11)"
   ]
  },
  {
   "cell_type": "markdown",
   "metadata": {},
   "source": [
    "### Modulus Operation\n",
    "\n",
    "The ```%``` Operator is an integer remainder finder.\n",
    "\n",
    "In computer science, integer arithimetic is an important topic related to data, cryptography, and algorithms. Hence the modulus operation is very important.\n",
    "\n",
    "If you don't know what a remainder is, please read about them [here](https://www.mathsisfun.com/numbers/division-remainder.html). _The website may seems elementary ... it is because you learn it in elementary school._"
   ]
  },
  {
   "cell_type": "code",
   "execution_count": 19,
   "metadata": {},
   "outputs": [
    {
     "name": "stdout",
     "output_type": "stream",
     "text": [
      "0\n",
      "2\n"
     ]
    }
   ],
   "source": [
    "# Modulus Example\n",
    "\n",
    "print(42 % 2) # Output is zero, when 42 is divided by 2 there are no remainders\n",
    "print(42 % 5) # Output is two, when 42 is divided by 5, 2 is leftover."
   ]
  },
  {
   "cell_type": "markdown",
   "metadata": {},
   "source": [
    "__NOTE:__\n",
    "\n",
    "By looking at the modulus operations above we can conclude that:\n",
    "- 2 is a factor of 42 and 42 is divisble by 2\n",
    "- 5 is not a factor of 42 and 42 is not divisible by 5 because 42 / 5 will create a __remainder__"
   ]
  }
 ],
 "metadata": {
  "kernelspec": {
   "display_name": "Python 3",
   "language": "python",
   "name": "python3"
  },
  "language_info": {
   "codemirror_mode": {
    "name": "ipython",
    "version": 3
   },
   "file_extension": ".py",
   "mimetype": "text/x-python",
   "name": "python",
   "nbconvert_exporter": "python",
   "pygments_lexer": "ipython3",
   "version": "3.8.2"
  }
 },
 "nbformat": 4,
 "nbformat_minor": 4
}

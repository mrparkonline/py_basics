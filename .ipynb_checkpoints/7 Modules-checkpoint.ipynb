{
 "cells": [
  {
   "cell_type": "markdown",
   "metadata": {},
   "source": [
    "# Modules\n",
    "---\n",
    "\n",
    "Modules are collection of code that is available for us to call upon when needed. This helps us program while not reinventing the wheel.\n",
    "\n",
    "### What are Modules?\n",
    "\n",
    "A module is a Python code with a sole purpose that it exists to:\n",
    "- Group related code\n",
    "- Extend the capabilities of your current Python code by importing it to your own code\n",
    "- Avoid creating solutions that already exist\n",
    "\n",
    "The two modules that we will focus on will be: __math__ and __random__.\n",
    "\n",
    "There are a lot modules that exists beyond what Python 3 offers (pandas and plotly to name a few). These can be installed to your computer.\n",
    "\n",
    "### Special Keywords\n",
    "\n",
    "To use any modules, we need the following 3 keywords:\n",
    "- ```import```\n",
    "- ```from```\n",
    "- ```as```\n",
    "\n",
    "### ```math``` module\n",
    "\n",
    "The math module allow us to access more built-in functions to access some mathematical functions that basic python does not include. \n",
    "\n",
    "You can find the entire offering of the math module [here](https://docs.python.org/3/library/math.html).\n",
    "\n",
    "```python\n",
    "math.ceil(x) → rounds up the parameter x to its closest integer\n",
    "math.floor(x) → rounds down the parameter x to its closest integer\n",
    "math.fabs(x) → returns the absolute (non-negative) value of x\n",
    "math.factorial(x) → returns the calculation of x factorial (x!)\n",
    "math.gcd(a,b) → returns the greatest common divisor of parameters a and b\n",
    "math.log(x) → returns the natural log (ln) of x\n",
    "math.log2(x) → returns the base 2 log of x\n",
    "math.log10(x) → returns the base 10 log of x\n",
    "math.pow(x,y) → returns to power of x to the exponent of y\n",
    "math.sqrt(x) → returns the square root of x\n",
    "math.sin(x) → returns the sine of x\n",
    "math.cos(x) → returns the cosine of x\n",
    "math.tan(x) → returns the tangent of x\n",
    "math.asin(x) → returns the arc sine of x\n",
    "math.acos(x) → returns the arc cosine of x\n",
    "math.atan(x) → returns the arc tangent of x\n",
    "math.degrees(x) → returns the conversion of x radians to degrees\n",
    "math.radians(x) → returns the conversion of x degrees to radians\n",
    "```\n"
   ]
  },
  {
   "cell_type": "code",
   "execution_count": 2,
   "metadata": {},
   "outputs": [
    {
     "name": "stdout",
     "output_type": "stream",
     "text": [
      "The GCD of 144 and 252 is: 36\n"
     ]
    }
   ],
   "source": [
    "# Math Module Example\n",
    "# Just using only the import statement\n",
    "\n",
    "import math # this gives access to the entire module\n",
    "\n",
    "# to use any of the functions seen above, we need the \"math.\" prefix\n",
    "\n",
    "# Greatest common divider\n",
    "a = 144\n",
    "b = 252\n",
    "\n",
    "result = math.gcd(a,b)\n",
    "print('The GCD of', a, 'and', b, 'is:', result)"
   ]
  },
  {
   "cell_type": "code",
   "execution_count": 5,
   "metadata": {},
   "outputs": [
    {
     "name": "stdout",
     "output_type": "stream",
     "text": [
      "The square root of 25 is: 5.0\n"
     ]
    }
   ],
   "source": [
    "# Math Module Example 2\n",
    "# Using from ... import ... as \n",
    "# from allow us to target a single function/item from our importing module\n",
    "# as allow us to rename the imported function\n",
    "\n",
    "from math import sqrt as squareRoot # we have now only imported square root function and renamed it\n",
    "# this way, we don't need the 'math.' prefix\n",
    "\n",
    "print('The square root of 25 is:', squareRoot(25))"
   ]
  },
  {
   "cell_type": "markdown",
   "metadata": {},
   "source": [
    "### ```random``` module\n",
    "\n",
    "The random module is a way to add random-like functionality to our code. Generation of random number is very fun way concept especially in game development.\n",
    "\n",
    "You can find the entire offering of the random module [here](https://docs.python.org/3/library/random.html).\n",
    "\n",
    "```\n",
    "\n",
    "random.seed(x) → the parameter x (an integer) is optional …\n",
    "\n",
    "    The seed function exists to help us generate a more predictable randomness. \n",
    "    If the seed() is given an integer, the program will generate the random same number every time.\n",
    "   \n",
    "random.random() → This function requires no parameters. \n",
    "    Every time this function is called, it will generate a random float from 0.0 inclusively to 1.0 exclusively\n",
    "\n",
    "random.randrange(a,b,c) → This function helps to generate random numbers, it will behave differently based on the number of arguments\n",
    "\n",
    "    random.randrange(x) → Generates random integers from 0 to x, but not including x\n",
    "\n",
    "    random.randrange(a,b) → Generates random integers from a to b, but not including b\n",
    "\n",
    "    random.randrange(a,b,c) → Generates random integers from a to b; not including b, and \n",
    "    the available values will be a set of values from parameter a increasing by parameter c\n",
    "\n",
    "\n",
    "random.randint(a,b) → Behaves the same way as random.randrange(a,b+1)\n",
    "\n",
    "random.choice(sequence) → Returns a random value from the parameter sequence\n",
    "    if the sequence is a string → returns a single character\n",
    "    if the sequence is a list → returns a single item\n",
    "\n",
    "```"
   ]
  },
  {
   "cell_type": "code",
   "execution_count": 9,
   "metadata": {},
   "outputs": [
    {
     "name": "stdout",
     "output_type": "stream",
     "text": [
      "Random number generated: 0.15972819314209852\n"
     ]
    }
   ],
   "source": [
    "# Example ... just using random()\n",
    "\n",
    "import random\n",
    "print('Random number generated:', random.random())\n",
    "\n",
    "# Whenever this program runs, it should generate a new random floating point value"
   ]
  },
  {
   "cell_type": "code",
   "execution_count": 10,
   "metadata": {},
   "outputs": [
    {
     "name": "stdout",
     "output_type": "stream",
     "text": [
      "value1: 2\n",
      "value2: 52\n",
      "value3: 490\n"
     ]
    }
   ],
   "source": [
    "# Example 2\n",
    "# Using randrange to generate random integers\n",
    "\n",
    "from random import randrange # if you like what the function is called, as statement is not required\n",
    "\n",
    "value1 = randrange(10) # Value 1 now contains a random value from 0 to 9 inclusively\n",
    "value2 = randrange(1,101) # Value 2 now contains a random value from 1 to 100 inclusively\n",
    "\n",
    "value3 = randrange(10, 1000, 3) \n",
    "# Value 3 now contains a random value of X such that the list of numbers to choose from goes from 10 to 1000\n",
    "# However, the interval between each number is 3 units away\n",
    "\n",
    "print('value1:', value1)\n",
    "print('value2:', value2)\n",
    "print('value3:', value3)"
   ]
  },
  {
   "cell_type": "code",
   "execution_count": 12,
   "metadata": {},
   "outputs": [
    {
     "name": "stdout",
     "output_type": "stream",
     "text": [
      "Random letter from word: a\n",
      "Random item from array: Watermelons\n"
     ]
    }
   ],
   "source": [
    "# Example 3\n",
    "# Using choice\n",
    "\n",
    "from random import choice\n",
    "\n",
    "word = 'The Lazy Dog sleeps in his crate.'\n",
    "array = ['Oranges', 'Watermelons', 'Apples', 'Kiwis', 'Bananas']\n",
    "\n",
    "print('Random letter from word:', choice(word))\n",
    "print('Random item from array:', choice(array))"
   ]
  }
 ],
 "metadata": {
  "kernelspec": {
   "display_name": "Python 3",
   "language": "python",
   "name": "python3"
  },
  "language_info": {
   "codemirror_mode": {
    "name": "ipython",
    "version": 3
   },
   "file_extension": ".py",
   "mimetype": "text/x-python",
   "name": "python",
   "nbconvert_exporter": "python",
   "pygments_lexer": "ipython3",
   "version": "3.8.2"
  }
 },
 "nbformat": 4,
 "nbformat_minor": 4
}

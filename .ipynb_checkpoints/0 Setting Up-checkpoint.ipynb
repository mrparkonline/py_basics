{
 "cells": [
  {
   "cell_type": "markdown",
   "metadata": {},
   "source": [
    "# Setting Up\n",
    "---\n",
    "\n",
    "Easiest way to start coding in Python is to use a web service from [repl.it](https://repl.it)\n",
    "\n",
    "If you'd like to use native software or other set ups please follow the guides below:\n",
    "- For Windows: [Guide Link from Visual Studio](https://code.visualstudio.com/docs/python/python-tutorial)\n",
    "- For macOS: [Guide Link from Digital Ocean](https://www.digitalocean.com/community/tutorials/how-to-install-python-3-and-set-up-a-local-programming-environment-on-macos)\n",
    "\n",
    "**It will be assumed that you will be coding on repl.it. You may require additional setting configurations if you are using a different setup.**\n",
    "\n"
   ]
  },
  {
   "cell_type": "markdown",
   "metadata": {},
   "source": [
    "## Starting with repl.it\n",
    "\n",
    "![](figures/01_f1.png)\n",
    "\n",
    "**To Do List:**\n",
    "1. Create an account. No need to select the _I'm a teacher_ option.\n",
    "2. Click on the blue button with a plus sign to create a new python file.\n",
    "3. Call your python file: \"My First Python Program\"\n",
    "\n",
    "## My First Python Program\n",
    "\n",
    "![](figures/01_f2.png)\n",
    "\n",
    "Examine the figure above, there are three vertical columns of importance:\n",
    "\n",
    "1. File Directory\n",
    "2. Code Editor\n",
    "3. Python Interpreter"
   ]
  },
  {
   "cell_type": "markdown",
   "metadata": {},
   "source": [
    "#### 1. File Directory\n",
    "\n",
    "As your python projects get more advanced, you will be creating more files here. The basics course will mainly deal with just editing our _\"main.py\"_ file.\n",
    "\n",
    "#### 2. Code Editor\n",
    "\n",
    "This is where you write your python code.\n",
    "- To left we have numbers letting us know which line we are at\n",
    "- Python is a Top-Down Intrepreted Language; therefore, Python will execute the lines of code starting at Line 0 all the way until it reaches the end of the file\n",
    "- Currently we've wrote some lines of code that are executable.\n",
    "\n",
    "#### 3. Python Interpreter\n",
    "\n",
    "This is where we get to see our code in action.\n",
    "- It will start from Line 0 from our editor\n",
    "- It will start to read line by line\n",
    "- If there is an _output_ to be made on the interpreter, it will be outputted on the interpreter.\n",
    "\n",
    "_At the moment, I have some code written down. Please feel free to copy it._\n",
    "\n",
    "To see all of this in action, please press **Run**."
   ]
  },
  {
   "cell_type": "code",
   "execution_count": 1,
   "metadata": {},
   "outputs": [
    {
     "name": "stdout",
     "output_type": "stream",
     "text": [
      "Hello, World!\n"
     ]
    }
   ],
   "source": [
    "# My First Python Program\n",
    "# By: Mr. Park\n",
    "\n",
    "print('Hello, World!')"
   ]
  },
  {
   "cell_type": "markdown",
   "metadata": {},
   "source": [
    "## Important repl.it Settings to Change\n",
    "\n",
    "**Before we talk about what the hashtag was and what ```print()``` was, we need to set up repl.it for Python Programming.**\n",
    "\n",
    "![](figures/01_f3.png)\n",
    "\n",
    "#### Settings to Change:\n",
    "1. Indent Type: Set to **Spaces**\n",
    "2. Indent Size: Set to **4**\n",
    "\n",
    "_These are the recommended (and basically mandatory) set up set by the [Python Organization](https://www.python.org/dev/peps/pep-0008/#indentation)_\n",
    "\n",
    "#### Optional Settings to Change:\n",
    "- Layout\n",
    "- Theme\n",
    "- Font Size\n",
    "\n",
    "_These you can set to your liking._\n",
    "\n",
    "#### Settings to not change:\n",
    "- keybinds\n",
    "- wrapping\n",
    "- code intelligence\n",
    "\n",
    "_It is recommended not to change these as a beginner programmer. I personally have code intelligence off to help me memorize better._\n",
    "\n",
    "**This concludes the set up portion.**"
   ]
  }
 ],
 "metadata": {
  "kernelspec": {
   "display_name": "Python 3",
   "language": "python",
   "name": "python3"
  },
  "language_info": {
   "codemirror_mode": {
    "name": "ipython",
    "version": 3
   },
   "file_extension": ".py",
   "mimetype": "text/x-python",
   "name": "python",
   "nbconvert_exporter": "python",
   "pygments_lexer": "ipython3",
   "version": "3.8.2"
  }
 },
 "nbformat": 4,
 "nbformat_minor": 4
}

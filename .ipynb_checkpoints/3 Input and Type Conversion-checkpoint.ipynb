{
 "cells": [
  {
   "cell_type": "markdown",
   "metadata": {},
   "source": [
    "# Input and Type Conversion\n",
    "---\n",
    "\n",
    "To allow users to interact with our program via keyboard, we need a way to read inputs from it.\n",
    "\n",
    "## ```input()``` built-in function\n",
    "\n",
    "- ```input()``` is a built-in function that is able to grab input from the console when typed from the keyboard by the user\n",
    "- The __input()__ function will always read its data as a string data typed value\n",
    "\n",
    "Let's see an example."
   ]
  },
  {
   "cell_type": "code",
   "execution_count": 1,
   "metadata": {},
   "outputs": [
    {
     "name": "stdout",
     "output_type": "stream",
     "text": [
      "Enter your first name: Mr.\n",
      "Enter your last name: Park\n",
      "Hello, Mr. Park\n"
     ]
    }
   ],
   "source": [
    "# Our example program\n",
    "\n",
    "first_name = input('Enter your first name: ')\n",
    "last_name = input('Enter your last name: ')\n",
    "\n",
    "print('Hello,', first_name, last_name)"
   ]
  },
  {
   "cell_type": "markdown",
   "metadata": {},
   "source": [
    "- Since we are grabbing data with input, it should be assigned to variables\n",
    "    - first_name has been assigned with the user input of \"Mr.\"\n",
    "    - last_name has been assigned with the user input of \"Park\"\n",
    "- the ```input()``` can contain a string message/argument inside to display when running the code\n",
    "    - For our example, the argument was \"Enter your first name: \" for the first input\n",
    "- After the input is finished, the variable now contains the values inputted which we printed"
   ]
  },
  {
   "cell_type": "markdown",
   "metadata": {},
   "source": [
    "## Type Conversion Functions\n",
    "\n",
    "Since ```input()``` only reads data as string data typed values, we are going to need a way to convert them to numeric data types for different scenarios.\n",
    "\n",
    "These functions will produce an error if they cannot convert the argument to their targetted data type.\n",
    "\n",
    "Example: ```int('hello world')``` will produce an error ... 'hello world' is not an integer.\n",
    "\n",
    "#### ```int()``` function\n",
    "\n",
    "This function allows us to the convert given argument into an integer."
   ]
  },
  {
   "cell_type": "code",
   "execution_count": 2,
   "metadata": {},
   "outputs": [
    {
     "name": "stdout",
     "output_type": "stream",
     "text": [
      "6\n"
     ]
    },
    {
     "ename": "TypeError",
     "evalue": "can only concatenate str (not \"int\") to str",
     "output_type": "error",
     "traceback": [
      "\u001b[0;31m---------------------------------------------------------------------------\u001b[0m",
      "\u001b[0;31mTypeError\u001b[0m                                 Traceback (most recent call last)",
      "\u001b[0;32m<ipython-input-2-c6a3c3a9a014>\u001b[0m in \u001b[0;36m<module>\u001b[0;34m\u001b[0m\n\u001b[1;32m      3\u001b[0m \u001b[0;34m\u001b[0m\u001b[0m\n\u001b[1;32m      4\u001b[0m \u001b[0mprint\u001b[0m\u001b[0;34m(\u001b[0m\u001b[0minteger_three\u001b[0m \u001b[0;34m+\u001b[0m \u001b[0;36m3\u001b[0m\u001b[0;34m)\u001b[0m \u001b[0;31m# should be 6\u001b[0m\u001b[0;34m\u001b[0m\u001b[0;34m\u001b[0m\u001b[0m\n\u001b[0;32m----> 5\u001b[0;31m \u001b[0mprint\u001b[0m\u001b[0;34m(\u001b[0m\u001b[0mstring_three\u001b[0m \u001b[0;34m+\u001b[0m \u001b[0;36m3\u001b[0m\u001b[0;34m)\u001b[0m \u001b[0;31m# an error because a string of 3 cannot add an integer of 3\u001b[0m\u001b[0;34m\u001b[0m\u001b[0;34m\u001b[0m\u001b[0m\n\u001b[0m",
      "\u001b[0;31mTypeError\u001b[0m: can only concatenate str (not \"int\") to str"
     ]
    }
   ],
   "source": [
    "string_three = \"3\"\n",
    "integer_three = int(string_three) # now integer_three contains an integer of 3\n",
    "\n",
    "print(integer_three + 3) # should be 6\n",
    "print(string_three + 3) # an error because a string of 3 cannot add an integer of 3"
   ]
  },
  {
   "cell_type": "markdown",
   "metadata": {},
   "source": [
    "#### ```float()``` function\n",
    "\n",
    "This function allow us to convert the given argument into a floating point value."
   ]
  },
  {
   "cell_type": "code",
   "execution_count": 3,
   "metadata": {},
   "outputs": [
    {
     "name": "stdout",
     "output_type": "stream",
     "text": [
      "3.14\n",
      "3.0\n"
     ]
    }
   ],
   "source": [
    "string_pi = \"3.14\"\n",
    "float_pi = float(string_pi)\n",
    "\n",
    "integer_three = 3\n",
    "float_three = float(integer_three)\n",
    "\n",
    "print(float_pi)\n",
    "print(float_three)"
   ]
  },
  {
   "cell_type": "markdown",
   "metadata": {},
   "source": [
    "#### ```str()``` function\n",
    "\n",
    "This function allow us to convert non-string typed value back into a string.\n",
    "\n",
    "_This function may seem silly now; it will be very important in the future unit._"
   ]
  },
  {
   "cell_type": "code",
   "execution_count": 4,
   "metadata": {},
   "outputs": [
    {
     "name": "stdout",
     "output_type": "stream",
     "text": [
      "42\n",
      "3.14159\n"
     ]
    }
   ],
   "source": [
    "num1 = 42\n",
    "num2 = 3.14159\n",
    "\n",
    "str_num1 = str(num1)\n",
    "str_num2 = str(num2)\n",
    "\n",
    "print(str_num1)\n",
    "print(str_num2)"
   ]
  }
 ],
 "metadata": {
  "kernelspec": {
   "display_name": "Python 3",
   "language": "python",
   "name": "python3"
  },
  "language_info": {
   "codemirror_mode": {
    "name": "ipython",
    "version": 3
   },
   "file_extension": ".py",
   "mimetype": "text/x-python",
   "name": "python",
   "nbconvert_exporter": "python",
   "pygments_lexer": "ipython3",
   "version": "3.8.2"
  }
 },
 "nbformat": 4,
 "nbformat_minor": 4
}

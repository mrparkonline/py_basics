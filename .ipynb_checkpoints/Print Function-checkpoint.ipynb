{
 "cells": [
  {
   "cell_type": "markdown",
   "metadata": {},
   "source": [
    "# Outputing Information w/ Python\n",
    "---\n",
    "\n",
    "## ```print()``` an output function\n",
    "\n",
    "Anytime we need to output data/information on to the interpreter, we use the ```print()``` function.\n",
    "\n",
    "![](figures/02_f1.png)\n",
    "\n",
    "```\n",
    "print() is a built-in function provided by Python, it helps us output to the interpreter\n",
    "\n",
    "'Hello, World' is the argument ... the data/information that we want to output to the interpreter\n",
    "```\n",
    "\n",
    "There are special words that are followed by parenthesis (brackets), which we call them as functions or built-in functions. The programming language of Python will have these functions to help us manipulate code. We will explore these as we code, and in the future, you will be able to create your own functions as well.\n",
    "\n",
    "```print()``` is a built-in function that outputs a message onto the console interpreter. The function is often used to output data for our programs. By the way, the print() function won’t activate your paper printer.\n",
    "\n",
    "At this moment, I recommend that you write the code above in your editor and executing it by pressing run.\n",
    "\n",
    "## ```print()``` is a multi-argument function\n",
    "\n",
    "Examine the code snippet below:"
   ]
  },
  {
   "cell_type": "code",
   "execution_count": 2,
   "metadata": {},
   "outputs": [
    {
     "name": "stdout",
     "output_type": "stream",
     "text": [
      "Hello World !\n"
     ]
    }
   ],
   "source": [
    "message1 = 'Hello'\n",
    "message2 = 'World'\n",
    "\n",
    "print(message1, message2, '!')"
   ]
  },
  {
   "cell_type": "markdown",
   "metadata": {},
   "source": [
    "The resulting output was ```Hello World !```.\n",
    "\n",
    "Since ```print()``` is a multi-argument function, we can provide it multiple values to print at once.\n",
    "- The data will be printed in one single line\n",
    "- We separate each argument by commas (,)\n",
    "- The comma will automatically add a whitespace in between each arguments. _If you don't like this behaviour, we can modify this later._"
   ]
  }
 ],
 "metadata": {
  "kernelspec": {
   "display_name": "Python 3",
   "language": "python",
   "name": "python3"
  },
  "language_info": {
   "codemirror_mode": {
    "name": "ipython",
    "version": 3
   },
   "file_extension": ".py",
   "mimetype": "text/x-python",
   "name": "python",
   "nbconvert_exporter": "python",
   "pygments_lexer": "ipython3",
   "version": "3.8.2"
  }
 },
 "nbformat": 4,
 "nbformat_minor": 4
}

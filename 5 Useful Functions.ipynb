{
 "cells": [
  {
   "cell_type": "markdown",
   "metadata": {},
   "source": [
    "# Useful Built-in Functions\n",
    "---\n",
    "\n",
    "These functions that we will learn are already programmed into the python language. We will learn how to use these functions to augment our code.\n",
    "\n",
    "### Maximum and Minimum Functions\n",
    "\n",
    "```max()``` and ```min()``` are built-in functions that help us find the extremes of its arguments.\n",
    "\n",
    "__Single Argument Use:__ When a function only has one argument.\n",
    "\n",
    "For max and min, the single argument must be either string or list. (Technically, iterable & comparable ... grade 12 definition)"
   ]
  },
  {
   "cell_type": "code",
   "execution_count": 4,
   "metadata": {},
   "outputs": [
    {
     "name": "stdout",
     "output_type": "stream",
     "text": [
      "Max of HelloWorld! is: r\n",
      "Min of HelloWorld! is: !\n"
     ]
    }
   ],
   "source": [
    "# Single Argument Example\n",
    "word = 'HelloWorld!'\n",
    "\n",
    "print('Max of', word, 'is:', max(word))\n",
    "print('Min of', word, 'is:', min(word))"
   ]
  },
  {
   "cell_type": "markdown",
   "metadata": {},
   "source": [
    "__Explanation:__\n",
    "\n",
    "- When using max or min on a list or a string, we compare each individual item or character\n",
    "- For strings, we compare them by using the character's [ASCII value](http://www.asciitable.com/)\n",
    "\n",
    "__Multi-Argument Use:__ When a function has multiple arguments.\n",
    "\n",
    "For max and min, the arguments themselves will be compared to each other and output the appropriate extreme.\n",
    "\n",
    "```max()``` and ```min()``` are special functions that can take any number of arguments."
   ]
  },
  {
   "cell_type": "code",
   "execution_count": 6,
   "metadata": {},
   "outputs": [
    {
     "name": "stdout",
     "output_type": "stream",
     "text": [
      "21\n",
      "4\n"
     ]
    }
   ],
   "source": [
    "# Multi-Argument Example\n",
    "\n",
    "print(max(7, 18, 15, 9, 18, 6, 21, 9, 4, 8))\n",
    "print(min(9, 18, 6, 21, 9, 4, 8))"
   ]
  },
  {
   "cell_type": "markdown",
   "metadata": {},
   "source": [
    "__NOTE:__\n",
    "\n",
    "We can assign the result of max() and min() function to a variable as well."
   ]
  },
  {
   "cell_type": "code",
   "execution_count": 7,
   "metadata": {},
   "outputs": [
    {
     "name": "stdout",
     "output_type": "stream",
     "text": [
      "o\n"
     ]
    }
   ],
   "source": [
    "# example\n",
    "result = max('hello')\n",
    "print(result) # should be o"
   ]
  },
  {
   "cell_type": "markdown",
   "metadata": {},
   "source": [
    "### Length Function\n",
    "\n",
    "The ```len()``` is the length function which is a __single argument__ function.\n",
    "\n",
    "The ```len()``` function is used to find the length of collection; moreover, the number of items in the collection.\n",
    "\n",
    "The only collection type data types in Grade 10 and 11 are strings and lists.\n",
    "\n",
    "We cannot find the length of non-collection based data types (int, float)"
   ]
  },
  {
   "cell_type": "code",
   "execution_count": 9,
   "metadata": {},
   "outputs": [
    {
     "name": "stdout",
     "output_type": "stream",
     "text": [
      "7\n",
      "6\n"
     ]
    }
   ],
   "source": [
    "# len() examples\n",
    "print(len('abcdefg')) # outputs 7 because there are 7 characters in the string\n",
    "print(len([1,2,3,4,5,6])) # Will return 6 because there are 6 items in the list\n"
   ]
  }
 ],
 "metadata": {
  "kernelspec": {
   "display_name": "Python 3",
   "language": "python",
   "name": "python3"
  },
  "language_info": {
   "codemirror_mode": {
    "name": "ipython",
    "version": 3
   },
   "file_extension": ".py",
   "mimetype": "text/x-python",
   "name": "python",
   "nbconvert_exporter": "python",
   "pygments_lexer": "ipython3",
   "version": "3.8.2"
  }
 },
 "nbformat": 4,
 "nbformat_minor": 4
}
